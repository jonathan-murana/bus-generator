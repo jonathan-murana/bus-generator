{
 "cells": [
  {
   "cell_type": "code",
   "execution_count": 1,
   "metadata": {},
   "outputs": [
    {
     "ename": "ModuleNotFoundError",
     "evalue": "No module named 'watson_developer_cloud'",
     "output_type": "error",
     "traceback": [
      "\u001b[0;31m---------------------------------------------------------------------------\u001b[0m",
      "\u001b[0;31mModuleNotFoundError\u001b[0m                       Traceback (most recent call last)",
      "\u001b[0;32m<ipython-input-1-dd6d05c2666f>\u001b[0m in \u001b[0;36m<module>\u001b[0;34m()\u001b[0m\n\u001b[1;32m      1\u001b[0m \u001b[0;32mimport\u001b[0m \u001b[0mjson\u001b[0m\u001b[0;34m\u001b[0m\u001b[0m\n\u001b[0;32m----> 2\u001b[0;31m \u001b[0;32mfrom\u001b[0m \u001b[0mwatson_developer_cloud\u001b[0m \u001b[0;32mimport\u001b[0m \u001b[0mNaturalLanguageUnderstandingV1\u001b[0m\u001b[0;34m\u001b[0m\u001b[0m\n\u001b[0m\u001b[1;32m      3\u001b[0m \u001b[0;32mfrom\u001b[0m \u001b[0mwatson_developer_cloud\u001b[0m\u001b[0;34m.\u001b[0m\u001b[0mnatural_language_understanding_v1\u001b[0m   \u001b[0;32mimport\u001b[0m \u001b[0mFeatures\u001b[0m\u001b[0;34m,\u001b[0m \u001b[0mEntitiesOptions\u001b[0m\u001b[0;34m,\u001b[0m \u001b[0mKeywordsOptions\u001b[0m\u001b[0;34m\u001b[0m\u001b[0m\n\u001b[1;32m      4\u001b[0m \u001b[0;34m\u001b[0m\u001b[0m\n\u001b[1;32m      5\u001b[0m natural_language_understanding = NaturalLanguageUnderstandingV1(\n",
      "\u001b[0;31mModuleNotFoundError\u001b[0m: No module named 'watson_developer_cloud'"
     ]
    }
   ],
   "source": [
    "import json\n",
    "from watson_developer_cloud import NaturalLanguageUnderstandingV1\n",
    "from watson_developer_cloud.natural_language_understanding_v1 \\\n",
    "  import Features, EntitiesOptions, KeywordsOptions\n",
    "\n",
    "natural_language_understanding = NaturalLanguageUnderstandingV1(\n",
    "  username='username',\n",
    "  password='password',\n",
    "  version='2018-03-16')\n",
    "\n",
    "response = natural_language_understanding.analyze(\n",
    "  text='IBM is an American multinational technology company '\n",
    "       'headquartered in Armonk, New York, United States, '\n",
    "       'with operations in over 170 countries.',\n",
    "  features=Features(\n",
    "    entities=EntitiesOptions(\n",
    "      emotion=True,\n",
    "      sentiment=True,\n",
    "      limit=2),\n",
    "    keywords=KeywordsOptions(\n",
    "      emotion=True,\n",
    "      sentiment=True,\n",
    "      limit=2))).get_result()\n",
    "\n",
    "print(json.dumps(response, indent=2))"
   ]
  },
  {
   "cell_type": "code",
   "execution_count": null,
   "metadata": {
    "collapsed": true
   },
   "outputs": [],
   "source": []
  }
 ],
 "metadata": {
  "kernelspec": {
   "display_name": "Python 2",
   "language": "python",
   "name": "python2"
  }
 },
 "nbformat": 4,
 "nbformat_minor": 2
}
